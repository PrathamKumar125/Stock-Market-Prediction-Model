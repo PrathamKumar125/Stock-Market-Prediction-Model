{
 "cells": [
  {
   "cell_type": "code",
   "execution_count": 1,
   "id": "11fa9cf8",
   "metadata": {
    "_cell_guid": "b1076dfc-b9ad-4769-8c92-a6c4dae69d19",
    "_uuid": "8f2839f25d086af736a60e9eeb907d3b93b6e0e5",
    "execution": {
     "iopub.execute_input": "2023-11-27T11:45:36.588777Z",
     "iopub.status.busy": "2023-11-27T11:45:36.587393Z",
     "iopub.status.idle": "2023-11-27T11:45:36.634686Z",
     "shell.execute_reply": "2023-11-27T11:45:36.633835Z",
     "shell.execute_reply.started": "2023-11-27T10:53:39.952629Z"
    },
    "papermill": {
     "duration": 0.080244,
     "end_time": "2023-11-27T11:45:36.634905",
     "exception": false,
     "start_time": "2023-11-27T11:45:36.554661",
     "status": "completed"
    },
    "tags": []
   },
   "outputs": [
    {
     "name": "stdout",
     "output_type": "stream",
     "text": [
      "/kaggle/input/nifty50-stock-market-data/HDFCBANK.csv\n",
      "/kaggle/input/nifty50-stock-market-data/GRASIM.csv\n",
      "/kaggle/input/nifty50-stock-market-data/WIPRO.csv\n",
      "/kaggle/input/nifty50-stock-market-data/stock_metadata.csv\n",
      "/kaggle/input/nifty50-stock-market-data/BPCL.csv\n",
      "/kaggle/input/nifty50-stock-market-data/INFY.csv\n",
      "/kaggle/input/nifty50-stock-market-data/LT.csv\n",
      "/kaggle/input/nifty50-stock-market-data/RELIANCE.csv\n",
      "/kaggle/input/nifty50-stock-market-data/BRITANNIA.csv\n",
      "/kaggle/input/nifty50-stock-market-data/INFRATEL.csv\n",
      "/kaggle/input/nifty50-stock-market-data/HEROMOTOCO.csv\n",
      "/kaggle/input/nifty50-stock-market-data/HINDUNILVR.csv\n",
      "/kaggle/input/nifty50-stock-market-data/TATAMOTORS.csv\n",
      "/kaggle/input/nifty50-stock-market-data/MM.csv\n",
      "/kaggle/input/nifty50-stock-market-data/HDFC.csv\n",
      "/kaggle/input/nifty50-stock-market-data/JSWSTEEL.csv\n",
      "/kaggle/input/nifty50-stock-market-data/TITAN.csv\n",
      "/kaggle/input/nifty50-stock-market-data/HINDALCO.csv\n",
      "/kaggle/input/nifty50-stock-market-data/AXISBANK.csv\n",
      "/kaggle/input/nifty50-stock-market-data/HCLTECH.csv\n",
      "/kaggle/input/nifty50-stock-market-data/ADANIPORTS.csv\n",
      "/kaggle/input/nifty50-stock-market-data/GAIL.csv\n",
      "/kaggle/input/nifty50-stock-market-data/NIFTY50_all.csv\n",
      "/kaggle/input/nifty50-stock-market-data/BAJAJFINSV.csv\n",
      "/kaggle/input/nifty50-stock-market-data/BAJFINANCE.csv\n",
      "/kaggle/input/nifty50-stock-market-data/ICICIBANK.csv\n",
      "/kaggle/input/nifty50-stock-market-data/ZEEL.csv\n",
      "/kaggle/input/nifty50-stock-market-data/ASIANPAINT.csv\n",
      "/kaggle/input/nifty50-stock-market-data/IOC.csv\n",
      "/kaggle/input/nifty50-stock-market-data/TATASTEEL.csv\n",
      "/kaggle/input/nifty50-stock-market-data/COALINDIA.csv\n",
      "/kaggle/input/nifty50-stock-market-data/NESTLEIND.csv\n",
      "/kaggle/input/nifty50-stock-market-data/DRREDDY.csv\n",
      "/kaggle/input/nifty50-stock-market-data/ONGC.csv\n",
      "/kaggle/input/nifty50-stock-market-data/EICHERMOT.csv\n",
      "/kaggle/input/nifty50-stock-market-data/UPL.csv\n",
      "/kaggle/input/nifty50-stock-market-data/SUNPHARMA.csv\n",
      "/kaggle/input/nifty50-stock-market-data/ULTRACEMCO.csv\n",
      "/kaggle/input/nifty50-stock-market-data/CIPLA.csv\n",
      "/kaggle/input/nifty50-stock-market-data/SHREECEM.csv\n",
      "/kaggle/input/nifty50-stock-market-data/VEDL.csv\n",
      "/kaggle/input/nifty50-stock-market-data/TCS.csv\n",
      "/kaggle/input/nifty50-stock-market-data/NTPC.csv\n",
      "/kaggle/input/nifty50-stock-market-data/MARUTI.csv\n",
      "/kaggle/input/nifty50-stock-market-data/KOTAKBANK.csv\n",
      "/kaggle/input/nifty50-stock-market-data/ITC.csv\n",
      "/kaggle/input/nifty50-stock-market-data/BAJAJ-AUTO.csv\n",
      "/kaggle/input/nifty50-stock-market-data/SBIN.csv\n",
      "/kaggle/input/nifty50-stock-market-data/INDUSINDBK.csv\n",
      "/kaggle/input/nifty50-stock-market-data/BHARTIARTL.csv\n",
      "/kaggle/input/nifty50-stock-market-data/TECHM.csv\n",
      "/kaggle/input/nifty50-stock-market-data/POWERGRID.csv\n"
     ]
    }
   ],
   "source": [
    "# This Python 3 environment comes with many helpful analytics libraries installed\n",
    "# It is defined by the kaggle/python Docker image: https://github.com/kaggle/docker-python\n",
    "# For example, here's several helpful packages to load\n",
    "\n",
    "import numpy as np # linear algebra\n",
    "import pandas as pd # data processing, CSV file I/O (e.g. pd.read_csv)\n",
    "\n",
    "# Input data files are available in the read-only \"../input/\" directory\n",
    "# For example, running this (by clicking run or pressing Shift+Enter) will list all files under the input directory\n",
    "\n",
    "import os\n",
    "for dirname, _, filenames in os.walk('/kaggle/input'):\n",
    "    for filename in filenames:\n",
    "        print(os.path.join(dirname, filename))\n",
    "\n",
    "# You can write up to 20GB to the current directory (/kaggle/working/) that gets preserved as output when you create a version using \"Save & Run All\" \n",
    "# You can also write temporary files to /kaggle/temp/, but they won't be saved outside of the current session"
   ]
  },
  {
   "cell_type": "code",
   "execution_count": 2,
   "id": "78db5725",
   "metadata": {
    "execution": {
     "iopub.execute_input": "2023-11-27T11:45:36.695955Z",
     "iopub.status.busy": "2023-11-27T11:45:36.695110Z",
     "iopub.status.idle": "2023-11-27T11:45:36.797179Z",
     "shell.execute_reply": "2023-11-27T11:45:36.797771Z",
     "shell.execute_reply.started": "2023-11-27T10:53:40.005829Z"
    },
    "papermill": {
     "duration": 0.135989,
     "end_time": "2023-11-27T11:45:36.797981",
     "exception": false,
     "start_time": "2023-11-27T11:45:36.661992",
     "status": "completed"
    },
    "tags": []
   },
   "outputs": [
    {
     "data": {
      "text/html": [
       "<div>\n",
       "<style scoped>\n",
       "    .dataframe tbody tr th:only-of-type {\n",
       "        vertical-align: middle;\n",
       "    }\n",
       "\n",
       "    .dataframe tbody tr th {\n",
       "        vertical-align: top;\n",
       "    }\n",
       "\n",
       "    .dataframe thead th {\n",
       "        text-align: right;\n",
       "    }\n",
       "</style>\n",
       "<table border=\"1\" class=\"dataframe\">\n",
       "  <thead>\n",
       "    <tr style=\"text-align: right;\">\n",
       "      <th></th>\n",
       "      <th>Symbol</th>\n",
       "      <th>Series</th>\n",
       "      <th>Prev Close</th>\n",
       "      <th>Open</th>\n",
       "      <th>High</th>\n",
       "      <th>Low</th>\n",
       "      <th>Last</th>\n",
       "      <th>Close</th>\n",
       "      <th>VWAP</th>\n",
       "      <th>Volume</th>\n",
       "      <th>Turnover</th>\n",
       "      <th>Trades</th>\n",
       "      <th>Deliverable Volume</th>\n",
       "      <th>%Deliverble</th>\n",
       "    </tr>\n",
       "    <tr>\n",
       "      <th>Date</th>\n",
       "      <th></th>\n",
       "      <th></th>\n",
       "      <th></th>\n",
       "      <th></th>\n",
       "      <th></th>\n",
       "      <th></th>\n",
       "      <th></th>\n",
       "      <th></th>\n",
       "      <th></th>\n",
       "      <th></th>\n",
       "      <th></th>\n",
       "      <th></th>\n",
       "      <th></th>\n",
       "      <th></th>\n",
       "    </tr>\n",
       "  </thead>\n",
       "  <tbody>\n",
       "    <tr>\n",
       "      <th>2002-02-18</th>\n",
       "      <td>BHARTI</td>\n",
       "      <td>EQ</td>\n",
       "      <td>0.00</td>\n",
       "      <td>51.90</td>\n",
       "      <td>51.90</td>\n",
       "      <td>43.50</td>\n",
       "      <td>44.70</td>\n",
       "      <td>44.35</td>\n",
       "      <td>46.00</td>\n",
       "      <td>10381190</td>\n",
       "      <td>4.775431e+13</td>\n",
       "      <td>NaN</td>\n",
       "      <td>6503775.0</td>\n",
       "      <td>0.6265</td>\n",
       "    </tr>\n",
       "    <tr>\n",
       "      <th>2002-02-19</th>\n",
       "      <td>BHARTI</td>\n",
       "      <td>EQ</td>\n",
       "      <td>44.35</td>\n",
       "      <td>45.15</td>\n",
       "      <td>45.15</td>\n",
       "      <td>41.30</td>\n",
       "      <td>41.35</td>\n",
       "      <td>41.70</td>\n",
       "      <td>42.58</td>\n",
       "      <td>3552660</td>\n",
       "      <td>1.512609e+13</td>\n",
       "      <td>NaN</td>\n",
       "      <td>1741184.0</td>\n",
       "      <td>0.4901</td>\n",
       "    </tr>\n",
       "    <tr>\n",
       "      <th>2002-02-20</th>\n",
       "      <td>BHARTI</td>\n",
       "      <td>EQ</td>\n",
       "      <td>41.70</td>\n",
       "      <td>40.60</td>\n",
       "      <td>42.80</td>\n",
       "      <td>40.25</td>\n",
       "      <td>41.20</td>\n",
       "      <td>41.25</td>\n",
       "      <td>41.56</td>\n",
       "      <td>2512964</td>\n",
       "      <td>1.044348e+13</td>\n",
       "      <td>NaN</td>\n",
       "      <td>NaN</td>\n",
       "      <td>NaN</td>\n",
       "    </tr>\n",
       "    <tr>\n",
       "      <th>2002-02-21</th>\n",
       "      <td>BHARTI</td>\n",
       "      <td>EQ</td>\n",
       "      <td>41.25</td>\n",
       "      <td>42.85</td>\n",
       "      <td>43.40</td>\n",
       "      <td>42.15</td>\n",
       "      <td>42.20</td>\n",
       "      <td>42.40</td>\n",
       "      <td>42.76</td>\n",
       "      <td>1338196</td>\n",
       "      <td>5.722681e+12</td>\n",
       "      <td>NaN</td>\n",
       "      <td>485969.0</td>\n",
       "      <td>0.3632</td>\n",
       "    </tr>\n",
       "    <tr>\n",
       "      <th>2002-02-22</th>\n",
       "      <td>BHARTI</td>\n",
       "      <td>EQ</td>\n",
       "      <td>42.40</td>\n",
       "      <td>42.65</td>\n",
       "      <td>43.60</td>\n",
       "      <td>41.10</td>\n",
       "      <td>43.35</td>\n",
       "      <td>43.30</td>\n",
       "      <td>42.75</td>\n",
       "      <td>811327</td>\n",
       "      <td>3.468413e+12</td>\n",
       "      <td>NaN</td>\n",
       "      <td>399133.0</td>\n",
       "      <td>0.4920</td>\n",
       "    </tr>\n",
       "  </tbody>\n",
       "</table>\n",
       "</div>"
      ],
      "text/plain": [
       "            Symbol Series  Prev Close   Open   High    Low   Last  Close  \\\n",
       "Date                                                                       \n",
       "2002-02-18  BHARTI     EQ        0.00  51.90  51.90  43.50  44.70  44.35   \n",
       "2002-02-19  BHARTI     EQ       44.35  45.15  45.15  41.30  41.35  41.70   \n",
       "2002-02-20  BHARTI     EQ       41.70  40.60  42.80  40.25  41.20  41.25   \n",
       "2002-02-21  BHARTI     EQ       41.25  42.85  43.40  42.15  42.20  42.40   \n",
       "2002-02-22  BHARTI     EQ       42.40  42.65  43.60  41.10  43.35  43.30   \n",
       "\n",
       "             VWAP    Volume      Turnover  Trades  Deliverable Volume  \\\n",
       "Date                                                                    \n",
       "2002-02-18  46.00  10381190  4.775431e+13     NaN           6503775.0   \n",
       "2002-02-19  42.58   3552660  1.512609e+13     NaN           1741184.0   \n",
       "2002-02-20  41.56   2512964  1.044348e+13     NaN                 NaN   \n",
       "2002-02-21  42.76   1338196  5.722681e+12     NaN            485969.0   \n",
       "2002-02-22  42.75    811327  3.468413e+12     NaN            399133.0   \n",
       "\n",
       "            %Deliverble  \n",
       "Date                     \n",
       "2002-02-18       0.6265  \n",
       "2002-02-19       0.4901  \n",
       "2002-02-20          NaN  \n",
       "2002-02-21       0.3632  \n",
       "2002-02-22       0.4920  "
      ]
     },
     "execution_count": 2,
     "metadata": {},
     "output_type": "execute_result"
    }
   ],
   "source": [
    "import pandas as pd\n",
    "df=pd.read_csv('/kaggle/input/nifty50-stock-market-data/BHARTIARTL.csv',na_values=['null'],\n",
    "               index_col='Date',parse_dates=True,infer_datetime_format=True)\n",
    "df.head()"
   ]
  },
  {
   "cell_type": "code",
   "execution_count": 3,
   "id": "eb4aadbb",
   "metadata": {
    "execution": {
     "iopub.execute_input": "2023-11-27T11:45:36.860033Z",
     "iopub.status.busy": "2023-11-27T11:45:36.859171Z",
     "iopub.status.idle": "2023-11-27T11:45:37.192576Z",
     "shell.execute_reply": "2023-11-27T11:45:37.191974Z",
     "shell.execute_reply.started": "2023-11-27T10:53:40.067002Z"
    },
    "papermill": {
     "duration": 0.367204,
     "end_time": "2023-11-27T11:45:37.192743",
     "exception": false,
     "start_time": "2023-11-27T11:45:36.825539",
     "status": "completed"
    },
    "tags": []
   },
   "outputs": [
    {
     "data": {
      "text/plain": [
       "<AxesSubplot:xlabel='Date'>"
      ]
     },
     "execution_count": 3,
     "metadata": {},
     "output_type": "execute_result"
    },
    {
     "data": {
      "image/png": "[encoded data removed]",
      "text/plain": [
       "<Figure size 432x288 with 1 Axes>"
      ]
     },
     "metadata": {
      "needs_background": "light"
     },
     "output_type": "display_data"
    }
   ],
   "source": [
    "df['VWAP'].plot()"
   ]
  },
  {
   "cell_type": "markdown",
   "id": "cb8a72d6",
   "metadata": {
    "papermill": {
     "duration": 0.028463,
     "end_time": "2023-11-27T11:45:37.250712",
     "exception": false,
     "start_time": "2023-11-27T11:45:37.222249",
     "status": "completed"
    },
    "tags": []
   },
   "source": [
    "Set target variables & features"
   ]
  },
  {
   "cell_type": "code",
   "execution_count": 4,
   "id": "86fc3ed2",
   "metadata": {
    "execution": {
     "iopub.execute_input": "2023-11-27T11:45:37.321127Z",
     "iopub.status.busy": "2023-11-27T11:45:37.320155Z",
     "iopub.status.idle": "2023-11-27T11:45:37.323461Z",
     "shell.execute_reply": "2023-11-27T11:45:37.322692Z",
     "shell.execute_reply.started": "2023-11-27T10:53:40.386629Z"
    },
    "papermill": {
     "duration": 0.039287,
     "end_time": "2023-11-27T11:45:37.323624",
     "exception": false,
     "start_time": "2023-11-27T11:45:37.284337",
     "status": "completed"
    },
    "tags": []
   },
   "outputs": [],
   "source": [
    "#Set Target Variable\n",
    "output_var = pd.DataFrame(df['VWAP'])\n",
    "#Selecting the Features\n",
    "features = ['Open', 'High', 'Low', 'Volume']"
   ]
  },
  {
   "cell_type": "markdown",
   "id": "c1383d99",
   "metadata": {
    "papermill": {
     "duration": 0.030061,
     "end_time": "2023-11-27T11:45:37.383171",
     "exception": false,
     "start_time": "2023-11-27T11:45:37.353110",
     "status": "completed"
    },
    "tags": []
   },
   "source": [
    "Scaling"
   ]
  },
  {
   "cell_type": "code",
   "execution_count": 5,
   "id": "be42d3c9",
   "metadata": {
    "execution": {
     "iopub.execute_input": "2023-11-27T11:45:37.449330Z",
     "iopub.status.busy": "2023-11-27T11:45:37.448359Z",
     "iopub.status.idle": "2023-11-27T11:45:38.633588Z",
     "shell.execute_reply": "2023-11-27T11:45:38.634244Z",
     "shell.execute_reply.started": "2023-11-27T10:53:40.392295Z"
    },
    "papermill": {
     "duration": 1.222013,
     "end_time": "2023-11-27T11:45:38.634443",
     "exception": false,
     "start_time": "2023-11-27T11:45:37.412430",
     "status": "completed"
    },
    "tags": []
   },
   "outputs": [
    {
     "data": {
      "text/html": [
       "<div>\n",
       "<style scoped>\n",
       "    .dataframe tbody tr th:only-of-type {\n",
       "        vertical-align: middle;\n",
       "    }\n",
       "\n",
       "    .dataframe tbody tr th {\n",
       "        vertical-align: top;\n",
       "    }\n",
       "\n",
       "    .dataframe thead th {\n",
       "        text-align: right;\n",
       "    }\n",
       "</style>\n",
       "<table border=\"1\" class=\"dataframe\">\n",
       "  <thead>\n",
       "    <tr style=\"text-align: right;\">\n",
       "      <th></th>\n",
       "      <th>Open</th>\n",
       "      <th>High</th>\n",
       "      <th>Low</th>\n",
       "      <th>Volume</th>\n",
       "    </tr>\n",
       "    <tr>\n",
       "      <th>Date</th>\n",
       "      <th></th>\n",
       "      <th></th>\n",
       "      <th></th>\n",
       "      <th></th>\n",
       "    </tr>\n",
       "  </thead>\n",
       "  <tbody>\n",
       "    <tr>\n",
       "      <th>2002-02-18</th>\n",
       "      <td>0.027678</td>\n",
       "      <td>0.026062</td>\n",
       "      <td>0.021363</td>\n",
       "      <td>0.053130</td>\n",
       "    </tr>\n",
       "    <tr>\n",
       "      <th>2002-02-19</th>\n",
       "      <td>0.021612</td>\n",
       "      <td>0.020256</td>\n",
       "      <td>0.019306</td>\n",
       "      <td>0.018087</td>\n",
       "    </tr>\n",
       "    <tr>\n",
       "      <th>2002-02-20</th>\n",
       "      <td>0.017523</td>\n",
       "      <td>0.018235</td>\n",
       "      <td>0.018325</td>\n",
       "      <td>0.012751</td>\n",
       "    </tr>\n",
       "    <tr>\n",
       "      <th>2002-02-21</th>\n",
       "      <td>0.019545</td>\n",
       "      <td>0.018751</td>\n",
       "      <td>0.020101</td>\n",
       "      <td>0.006723</td>\n",
       "    </tr>\n",
       "    <tr>\n",
       "      <th>2002-02-22</th>\n",
       "      <td>0.019366</td>\n",
       "      <td>0.018923</td>\n",
       "      <td>0.019119</td>\n",
       "      <td>0.004019</td>\n",
       "    </tr>\n",
       "  </tbody>\n",
       "</table>\n",
       "</div>"
      ],
      "text/plain": [
       "                Open      High       Low    Volume\n",
       "Date                                              \n",
       "2002-02-18  0.027678  0.026062  0.021363  0.053130\n",
       "2002-02-19  0.021612  0.020256  0.019306  0.018087\n",
       "2002-02-20  0.017523  0.018235  0.018325  0.012751\n",
       "2002-02-21  0.019545  0.018751  0.020101  0.006723\n",
       "2002-02-22  0.019366  0.018923  0.019119  0.004019"
      ]
     },
     "execution_count": 5,
     "metadata": {},
     "output_type": "execute_result"
    }
   ],
   "source": [
    "from sklearn.preprocessing import MinMaxScaler\n",
    "scaler = MinMaxScaler()\n",
    "feature_transform = scaler.fit_transform(df[features])\n",
    "feature_transform= pd.DataFrame(columns=features, data=feature_transform, index=df.index)\n",
    "feature_transform.head()"
   ]
  },
  {
   "cell_type": "code",
   "execution_count": 6,
   "id": "27aa3b79",
   "metadata": {
    "execution": {
     "iopub.execute_input": "2023-11-27T11:45:38.699961Z",
     "iopub.status.busy": "2023-11-27T11:45:38.699144Z",
     "iopub.status.idle": "2023-11-27T11:45:38.702152Z",
     "shell.execute_reply": "2023-11-27T11:45:38.702711Z",
     "shell.execute_reply.started": "2023-11-27T10:53:41.219824Z"
    },
    "papermill": {
     "duration": 0.039215,
     "end_time": "2023-11-27T11:45:38.702956",
     "exception": false,
     "start_time": "2023-11-27T11:45:38.663741",
     "status": "completed"
    },
    "tags": []
   },
   "outputs": [
    {
     "data": {
      "text/plain": [
       "(4774, 4)"
      ]
     },
     "execution_count": 6,
     "metadata": {},
     "output_type": "execute_result"
    }
   ],
   "source": [
    "feature_transform.shape"
   ]
  },
  {
   "cell_type": "code",
   "execution_count": 7,
   "id": "b303bc1c",
   "metadata": {
    "execution": {
     "iopub.execute_input": "2023-11-27T11:45:38.767318Z",
     "iopub.status.busy": "2023-11-27T11:45:38.766247Z",
     "iopub.status.idle": "2023-11-27T11:45:38.834466Z",
     "shell.execute_reply": "2023-11-27T11:45:38.833721Z",
     "shell.execute_reply.started": "2023-11-27T10:53:41.224861Z"
    },
    "papermill": {
     "duration": 0.101425,
     "end_time": "2023-11-27T11:45:38.834632",
     "exception": false,
     "start_time": "2023-11-27T11:45:38.733207",
     "status": "completed"
    },
    "tags": []
   },
   "outputs": [],
   "source": [
    "from sklearn.model_selection import TimeSeriesSplit\n",
    "#Splitting to Training set and Test set\n",
    "timesplit= TimeSeriesSplit(n_splits=10) # 90-10%\n",
    "for train_index, test_index in timesplit.split(feature_transform):\n",
    "        X_train, X_test = feature_transform[:len(train_index)], feature_transform[len(train_index): (len(train_index)+len(test_index))]\n",
    "        y_train, y_test = output_var[:len(train_index)].values.ravel(), output_var[len(train_index): (len(train_index)+len(test_index))].values.ravel()"
   ]
  },
  {
   "cell_type": "code",
   "execution_count": 8,
   "id": "6237e385",
   "metadata": {
    "execution": {
     "iopub.execute_input": "2023-11-27T11:45:38.901861Z",
     "iopub.status.busy": "2023-11-27T11:45:38.900904Z",
     "iopub.status.idle": "2023-11-27T11:45:38.905128Z",
     "shell.execute_reply": "2023-11-27T11:45:38.904420Z",
     "shell.execute_reply.started": "2023-11-27T10:53:41.278809Z"
    },
    "papermill": {
     "duration": 0.039618,
     "end_time": "2023-11-27T11:45:38.905296",
     "exception": false,
     "start_time": "2023-11-27T11:45:38.865678",
     "status": "completed"
    },
    "tags": []
   },
   "outputs": [
    {
     "name": "stdout",
     "output_type": "stream",
     "text": [
      "(4340, 4)\n",
      "(434, 4)\n"
     ]
    }
   ],
   "source": [
    "print(X_train.shape)\n",
    "print(X_test.shape)"
   ]
  },
  {
   "cell_type": "markdown",
   "id": "e031e793",
   "metadata": {
    "papermill": {
     "duration": 0.029741,
     "end_time": "2023-11-27T11:45:38.967445",
     "exception": false,
     "start_time": "2023-11-27T11:45:38.937704",
     "status": "completed"
    },
    "tags": []
   },
   "source": [
    "Data Processing For LSTM"
   ]
  },
  {
   "cell_type": "code",
   "execution_count": 9,
   "id": "997964b9",
   "metadata": {
    "execution": {
     "iopub.execute_input": "2023-11-27T11:45:39.035944Z",
     "iopub.status.busy": "2023-11-27T11:45:39.034684Z",
     "iopub.status.idle": "2023-11-27T11:45:39.039920Z",
     "shell.execute_reply": "2023-11-27T11:45:39.039245Z",
     "shell.execute_reply.started": "2023-11-27T10:53:41.284602Z"
    },
    "papermill": {
     "duration": 0.042339,
     "end_time": "2023-11-27T11:45:39.040101",
     "exception": false,
     "start_time": "2023-11-27T11:45:38.997762",
     "status": "completed"
    },
    "tags": []
   },
   "outputs": [
    {
     "name": "stdout",
     "output_type": "stream",
     "text": [
      "(4340, 1, 4)\n",
      "(434, 1, 4)\n"
     ]
    }
   ],
   "source": [
    "#Process the data for LSTM\n",
    "trainX =np.array(X_train)\n",
    "testX =np.array(X_test)\n",
    "X_train = trainX.reshape(X_train.shape[0], 1, X_train.shape[1])\n",
    "X_test = testX.reshape(X_test.shape[0], 1, X_test.shape[1])\n",
    "print(X_train.shape)\n",
    "print(X_test.shape)"
   ]
  },
  {
   "cell_type": "markdown",
   "id": "423edb13",
   "metadata": {
    "papermill": {
     "duration": 0.030937,
     "end_time": "2023-11-27T11:45:39.102123",
     "exception": false,
     "start_time": "2023-11-27T11:45:39.071186",
     "status": "completed"
    },
    "tags": []
   },
   "source": [
    "Building the LSTM Model for Stock Market Prediction"
   ]
  },
  {
   "cell_type": "code",
   "execution_count": 10,
   "id": "00f914d2",
   "metadata": {
    "execution": {
     "iopub.execute_input": "2023-11-27T11:45:39.167278Z",
     "iopub.status.busy": "2023-11-27T11:45:39.166489Z",
     "iopub.status.idle": "2023-11-27T11:45:47.640018Z",
     "shell.execute_reply": "2023-11-27T11:45:47.640663Z",
     "shell.execute_reply.started": "2023-11-27T11:20:44.710443Z"
    },
    "papermill": {
     "duration": 8.507879,
     "end_time": "2023-11-27T11:45:47.640869",
     "exception": false,
     "start_time": "2023-11-27T11:45:39.132990",
     "status": "completed"
    },
    "tags": []
   },
   "outputs": [
    {
     "data": {
      "image/png": "[encoded data removed]",
      "text/plain": [
       "<IPython.core.display.Image object>"
      ]
     },
     "execution_count": 10,
     "metadata": {},
     "output_type": "execute_result"
    }
   ],
   "source": [
    "#Building the LSTM Model\n",
    "import tensorflow as tf\n",
    "lstm = tf.keras.Sequential()\n",
    "lstm.add(tf.keras.layers.LSTM(32, input_shape=(1, trainX.shape[1]), activation='relu', return_sequences=False))\n",
    "lstm.add(tf.keras.layers.Dropout(0.1))\n",
    "lstm.add(tf.keras.layers.Dense(1))\n",
    "lstm.compile(loss='mean_squared_error', optimizer='adam',metrics = ['mse'])\n",
    "tf.keras.utils.plot_model(lstm, show_shapes=True, show_layer_names=True)"
   ]
  },
  {
   "cell_type": "markdown",
   "id": "87cb6fae",
   "metadata": {
    "papermill": {
     "duration": 0.042159,
     "end_time": "2023-11-27T11:45:47.717177",
     "exception": false,
     "start_time": "2023-11-27T11:45:47.675018",
     "status": "completed"
    },
    "tags": []
   },
   "source": [
    "Training the Stock Market Prediction Model"
   ]
  },
  {
   "cell_type": "code",
   "execution_count": 11,
   "id": "fbdc36d7",
   "metadata": {
    "execution": {
     "iopub.execute_input": "2023-11-27T11:45:47.791880Z",
     "iopub.status.busy": "2023-11-27T11:45:47.790514Z",
     "iopub.status.idle": "2023-11-27T11:48:11.167779Z",
     "shell.execute_reply": "2023-11-27T11:48:11.167057Z",
     "shell.execute_reply.started": "2023-11-27T11:22:06.436409Z"
    },
    "papermill": {
     "duration": 143.418243,
     "end_time": "2023-11-27T11:48:11.168029",
     "exception": false,
     "start_time": "2023-11-27T11:45:47.749786",
     "status": "completed"
    },
    "tags": []
   },
   "outputs": [
    {
     "name": "stdout",
     "output_type": "stream",
     "text": [
      "Epoch 1/100\n",
      "434/434 [==============================] - 3s 3ms/step - loss: 179198.7344 - mse: 179198.7344 - val_loss: 234118.6719 - val_mse: 234118.6719\n",
      "Epoch 2/100\n",
      "434/434 [==============================] - 1s 2ms/step - loss: 167325.0312 - mse: 167325.0312 - val_loss: 207520.7344 - val_mse: 207520.7344\n",
      "Epoch 3/100\n",
      "434/434 [==============================] - 1s 2ms/step - loss: 143212.0938 - mse: 143212.0938 - val_loss: 168343.7031 - val_mse: 168343.7031\n",
      "Epoch 4/100\n",
      "434/434 [==============================] - 1s 2ms/step - loss: 113974.6406 - mse: 113974.6406 - val_loss: 127170.1172 - val_mse: 127170.1172\n",
      "Epoch 5/100\n",
      "434/434 [==============================] - 1s 2ms/step - loss: 85561.7266 - mse: 85561.7266 - val_loss: 89757.6406 - val_mse: 89757.6406\n",
      "Epoch 6/100\n",
      "434/434 [==============================] - 1s 2ms/step - loss: 61349.3828 - mse: 61349.3828 - val_loss: 59125.0977 - val_mse: 59125.0977\n",
      "Epoch 7/100\n",
      "434/434 [==============================] - 1s 2ms/step - loss: 42595.6289 - mse: 42595.6289 - val_loss: 36293.1602 - val_mse: 36293.1602\n",
      "Epoch 8/100\n",
      "434/434 [==============================] - 1s 2ms/step - loss: 29460.9258 - mse: 29460.9258 - val_loss: 20971.8984 - val_mse: 20971.8984\n",
      "Epoch 9/100\n",
      "434/434 [==============================] - 1s 2ms/step - loss: 21008.2695 - mse: 21008.2695 - val_loss: 11687.1670 - val_mse: 11687.1670\n",
      "Epoch 10/100\n",
      "434/434 [==============================] - 1s 2ms/step - loss: 16491.6230 - mse: 16491.6230 - val_loss: 6552.0806 - val_mse: 6552.0806\n",
      "Epoch 11/100\n",
      "434/434 [==============================] - 1s 2ms/step - loss: 13787.4014 - mse: 13787.4014 - val_loss: 3937.6023 - val_mse: 3937.6023\n",
      "Epoch 12/100\n",
      "434/434 [==============================] - 1s 2ms/step - loss: 11956.8857 - mse: 11956.8867 - val_loss: 2605.5391 - val_mse: 2605.5391\n",
      "Epoch 13/100\n",
      "434/434 [==============================] - 1s 2ms/step - loss: 10385.9502 - mse: 10385.9502 - val_loss: 1920.0590 - val_mse: 1920.0590\n",
      "Epoch 14/100\n",
      "434/434 [==============================] - 1s 2ms/step - loss: 9036.2842 - mse: 9036.2842 - val_loss: 1504.7189 - val_mse: 1504.7189\n",
      "Epoch 15/100\n",
      "434/434 [==============================] - 1s 2ms/step - loss: 7753.1733 - mse: 7753.1733 - val_loss: 1179.8286 - val_mse: 1179.8286\n",
      "Epoch 16/100\n",
      "434/434 [==============================] - 1s 2ms/step - loss: 6136.5757 - mse: 6136.5757 - val_loss: 921.8731 - val_mse: 921.8732\n",
      "Epoch 17/100\n",
      "434/434 [==============================] - 1s 2ms/step - loss: 4910.5332 - mse: 4910.5332 - val_loss: 658.3915 - val_mse: 658.3915\n",
      "Epoch 18/100\n",
      "434/434 [==============================] - 1s 2ms/step - loss: 3885.7258 - mse: 3885.7258 - val_loss: 467.4693 - val_mse: 467.4693\n",
      "Epoch 19/100\n",
      "434/434 [==============================] - 1s 2ms/step - loss: 2963.6863 - mse: 2963.6863 - val_loss: 358.7115 - val_mse: 358.7115\n",
      "Epoch 20/100\n",
      "434/434 [==============================] - 1s 2ms/step - loss: 2437.7444 - mse: 2437.7444 - val_loss: 305.9505 - val_mse: 305.9505\n",
      "Epoch 21/100\n",
      "434/434 [==============================] - 1s 2ms/step - loss: 1986.1973 - mse: 1986.1973 - val_loss: 309.6140 - val_mse: 309.6140\n",
      "Epoch 22/100\n",
      "434/434 [==============================] - 1s 2ms/step - loss: 1810.7565 - mse: 1810.7565 - val_loss: 376.5534 - val_mse: 376.5534\n",
      "Epoch 23/100\n",
      "434/434 [==============================] - 1s 2ms/step - loss: 1533.3401 - mse: 1533.3401 - val_loss: 395.0094 - val_mse: 395.0094\n",
      "Epoch 24/100\n",
      "434/434 [==============================] - 1s 2ms/step - loss: 1493.4944 - mse: 1493.4944 - val_loss: 434.5395 - val_mse: 434.5395\n",
      "Epoch 25/100\n",
      "434/434 [==============================] - 1s 2ms/step - loss: 1549.9384 - mse: 1549.9384 - val_loss: 467.2437 - val_mse: 467.2437\n",
      "Epoch 26/100\n",
      "434/434 [==============================] - 1s 2ms/step - loss: 1444.0402 - mse: 1444.0402 - val_loss: 439.3061 - val_mse: 439.3061\n",
      "Epoch 27/100\n",
      "434/434 [==============================] - 1s 2ms/step - loss: 1396.8973 - mse: 1396.8973 - val_loss: 425.2665 - val_mse: 425.2665\n",
      "Epoch 28/100\n",
      "434/434 [==============================] - 1s 2ms/step - loss: 1507.8000 - mse: 1507.8000 - val_loss: 427.5493 - val_mse: 427.5493\n",
      "Epoch 29/100\n",
      "434/434 [==============================] - 1s 2ms/step - loss: 1501.7656 - mse: 1501.7656 - val_loss: 423.0166 - val_mse: 423.0166\n",
      "Epoch 30/100\n",
      "434/434 [==============================] - 1s 2ms/step - loss: 1553.6471 - mse: 1553.6471 - val_loss: 435.4744 - val_mse: 435.4744\n",
      "Epoch 31/100\n",
      "434/434 [==============================] - 1s 2ms/step - loss: 1446.6895 - mse: 1446.6895 - val_loss: 418.7105 - val_mse: 418.7105\n",
      "Epoch 32/100\n",
      "434/434 [==============================] - 1s 2ms/step - loss: 1515.7621 - mse: 1515.7621 - val_loss: 424.5819 - val_mse: 424.5819\n",
      "Epoch 33/100\n",
      "434/434 [==============================] - 1s 2ms/step - loss: 1512.6757 - mse: 1512.6758 - val_loss: 440.0898 - val_mse: 440.0898\n",
      "Epoch 34/100\n",
      "434/434 [==============================] - 1s 2ms/step - loss: 1462.7808 - mse: 1462.7808 - val_loss: 416.0948 - val_mse: 416.0948\n",
      "Epoch 35/100\n",
      "434/434 [==============================] - 1s 2ms/step - loss: 1460.9011 - mse: 1460.9011 - val_loss: 300.5900 - val_mse: 300.5900\n",
      "Epoch 36/100\n",
      "434/434 [==============================] - 1s 2ms/step - loss: 1508.2225 - mse: 1508.2225 - val_loss: 432.1370 - val_mse: 432.1370\n",
      "Epoch 37/100\n",
      "434/434 [==============================] - 1s 2ms/step - loss: 1441.0466 - mse: 1441.0466 - val_loss: 376.8904 - val_mse: 376.8904\n",
      "Epoch 38/100\n",
      "434/434 [==============================] - 1s 2ms/step - loss: 1514.2841 - mse: 1514.2841 - val_loss: 358.6600 - val_mse: 358.6600\n",
      "Epoch 39/100\n",
      "434/434 [==============================] - 1s 2ms/step - loss: 1581.2679 - mse: 1581.2679 - val_loss: 375.5828 - val_mse: 375.5828\n",
      "Epoch 40/100\n",
      "434/434 [==============================] - 1s 2ms/step - loss: 1594.7451 - mse: 1594.7451 - val_loss: 380.0459 - val_mse: 380.0459\n",
      "Epoch 41/100\n",
      "434/434 [==============================] - 1s 2ms/step - loss: 1540.0405 - mse: 1540.0405 - val_loss: 424.1707 - val_mse: 424.1707\n",
      "Epoch 42/100\n",
      "434/434 [==============================] - 1s 2ms/step - loss: 1521.6282 - mse: 1521.6282 - val_loss: 359.1728 - val_mse: 359.1728\n",
      "Epoch 43/100\n",
      "434/434 [==============================] - 1s 2ms/step - loss: 1439.7521 - mse: 1439.7521 - val_loss: 397.7906 - val_mse: 397.7906\n",
      "Epoch 44/100\n",
      "434/434 [==============================] - 1s 2ms/step - loss: 1498.1438 - mse: 1498.1438 - val_loss: 386.8239 - val_mse: 386.8239\n",
      "Epoch 45/100\n",
      "434/434 [==============================] - 1s 2ms/step - loss: 1425.8230 - mse: 1425.8230 - val_loss: 374.0687 - val_mse: 374.0687\n",
      "Epoch 46/100\n",
      "434/434 [==============================] - 1s 2ms/step - loss: 1466.3848 - mse: 1466.3848 - val_loss: 275.8239 - val_mse: 275.8239\n",
      "Epoch 47/100\n",
      "434/434 [==============================] - 1s 2ms/step - loss: 1552.8441 - mse: 1552.8441 - val_loss: 320.6088 - val_mse: 320.6088\n",
      "Epoch 48/100\n",
      "434/434 [==============================] - 1s 2ms/step - loss: 1547.9271 - mse: 1547.9271 - val_loss: 385.9149 - val_mse: 385.9149\n",
      "Epoch 49/100\n",
      "434/434 [==============================] - 1s 2ms/step - loss: 1512.6611 - mse: 1512.6611 - val_loss: 305.6548 - val_mse: 305.6548\n",
      "Epoch 50/100\n",
      "434/434 [==============================] - 1s 2ms/step - loss: 1498.1074 - mse: 1498.1074 - val_loss: 339.9189 - val_mse: 339.9189\n",
      "Epoch 51/100\n",
      "434/434 [==============================] - 1s 2ms/step - loss: 1443.6963 - mse: 1443.6963 - val_loss: 332.4756 - val_mse: 332.4756\n",
      "Epoch 52/100\n",
      "434/434 [==============================] - 1s 2ms/step - loss: 1603.0907 - mse: 1603.0907 - val_loss: 262.4498 - val_mse: 262.4498\n",
      "Epoch 53/100\n",
      "434/434 [==============================] - 1s 2ms/step - loss: 1525.5782 - mse: 1525.5782 - val_loss: 288.4159 - val_mse: 288.4159\n",
      "Epoch 54/100\n",
      "434/434 [==============================] - 1s 2ms/step - loss: 1479.7513 - mse: 1479.7513 - val_loss: 302.3999 - val_mse: 302.3999\n",
      "Epoch 55/100\n",
      "434/434 [==============================] - 1s 2ms/step - loss: 1398.6395 - mse: 1398.6395 - val_loss: 327.1530 - val_mse: 327.1530\n",
      "Epoch 56/100\n",
      "434/434 [==============================] - 1s 2ms/step - loss: 1475.8717 - mse: 1475.8717 - val_loss: 271.4568 - val_mse: 271.4568\n",
      "Epoch 57/100\n",
      "434/434 [==============================] - 1s 2ms/step - loss: 1458.7936 - mse: 1458.7935 - val_loss: 317.2251 - val_mse: 317.2251\n",
      "Epoch 58/100\n",
      "434/434 [==============================] - 1s 2ms/step - loss: 1422.3271 - mse: 1422.3271 - val_loss: 309.0060 - val_mse: 309.0060\n",
      "Epoch 59/100\n",
      "434/434 [==============================] - 1s 2ms/step - loss: 1489.8147 - mse: 1489.8146 - val_loss: 272.1360 - val_mse: 272.1360\n",
      "Epoch 60/100\n",
      "434/434 [==============================] - 1s 2ms/step - loss: 1554.5829 - mse: 1554.5829 - val_loss: 278.7337 - val_mse: 278.7337\n",
      "Epoch 61/100\n",
      "434/434 [==============================] - 1s 2ms/step - loss: 1485.3771 - mse: 1485.3771 - val_loss: 245.9165 - val_mse: 245.9165\n",
      "Epoch 62/100\n",
      "434/434 [==============================] - 1s 2ms/step - loss: 1518.1047 - mse: 1518.1046 - val_loss: 252.3726 - val_mse: 252.3726\n",
      "Epoch 63/100\n",
      "434/434 [==============================] - 1s 2ms/step - loss: 1449.3903 - mse: 1449.3903 - val_loss: 312.6223 - val_mse: 312.6223\n",
      "Epoch 64/100\n",
      "434/434 [==============================] - 1s 2ms/step - loss: 1357.3351 - mse: 1357.3351 - val_loss: 278.7552 - val_mse: 278.7552\n",
      "Epoch 65/100\n",
      "434/434 [==============================] - 1s 2ms/step - loss: 1454.5266 - mse: 1454.5267 - val_loss: 234.6630 - val_mse: 234.6630\n",
      "Epoch 66/100\n",
      "434/434 [==============================] - 1s 2ms/step - loss: 1447.3810 - mse: 1447.3810 - val_loss: 263.3336 - val_mse: 263.3336\n",
      "Epoch 67/100\n",
      "434/434 [==============================] - 1s 2ms/step - loss: 1504.0457 - mse: 1504.0457 - val_loss: 301.7745 - val_mse: 301.7745\n",
      "Epoch 68/100\n",
      "434/434 [==============================] - 1s 2ms/step - loss: 1442.4779 - mse: 1442.4778 - val_loss: 259.1836 - val_mse: 259.1836\n",
      "Epoch 69/100\n",
      "434/434 [==============================] - 1s 2ms/step - loss: 1401.5062 - mse: 1401.5062 - val_loss: 190.3150 - val_mse: 190.3150\n",
      "Epoch 70/100\n",
      "434/434 [==============================] - 1s 2ms/step - loss: 1535.6752 - mse: 1535.6754 - val_loss: 225.7791 - val_mse: 225.7791\n",
      "Epoch 71/100\n",
      "434/434 [==============================] - 1s 2ms/step - loss: 1539.2227 - mse: 1539.2227 - val_loss: 177.3036 - val_mse: 177.3036\n",
      "Epoch 72/100\n",
      "434/434 [==============================] - 1s 2ms/step - loss: 1444.2798 - mse: 1444.2798 - val_loss: 227.8910 - val_mse: 227.8910\n",
      "Epoch 73/100\n",
      "434/434 [==============================] - 1s 2ms/step - loss: 1454.6306 - mse: 1454.6306 - val_loss: 250.5056 - val_mse: 250.5056\n",
      "Epoch 74/100\n",
      "434/434 [==============================] - 1s 2ms/step - loss: 1535.2961 - mse: 1535.2961 - val_loss: 258.7858 - val_mse: 258.7858\n",
      "Epoch 75/100\n",
      "434/434 [==============================] - 1s 2ms/step - loss: 1502.3911 - mse: 1502.3911 - val_loss: 205.0390 - val_mse: 205.0391\n",
      "Epoch 76/100\n",
      "434/434 [==============================] - 1s 2ms/step - loss: 1434.2465 - mse: 1434.2465 - val_loss: 274.5536 - val_mse: 274.5536\n",
      "Epoch 77/100\n",
      "434/434 [==============================] - 1s 2ms/step - loss: 1413.6136 - mse: 1413.6136 - val_loss: 166.0988 - val_mse: 166.0988\n",
      "Epoch 78/100\n",
      "434/434 [==============================] - 1s 2ms/step - loss: 1579.5488 - mse: 1579.5488 - val_loss: 188.5260 - val_mse: 188.5260\n",
      "Epoch 79/100\n",
      "434/434 [==============================] - 1s 2ms/step - loss: 1445.0320 - mse: 1445.0320 - val_loss: 193.8901 - val_mse: 193.8901\n",
      "Epoch 80/100\n",
      "434/434 [==============================] - 1s 2ms/step - loss: 1544.5150 - mse: 1544.5149 - val_loss: 221.8548 - val_mse: 221.8548\n",
      "Epoch 81/100\n",
      "434/434 [==============================] - 1s 2ms/step - loss: 1467.3761 - mse: 1467.3761 - val_loss: 180.8292 - val_mse: 180.8292\n",
      "Epoch 82/100\n",
      "434/434 [==============================] - 1s 2ms/step - loss: 1588.1454 - mse: 1588.1454 - val_loss: 233.0249 - val_mse: 233.0249\n",
      "Epoch 83/100\n",
      "434/434 [==============================] - 1s 2ms/step - loss: 1402.1906 - mse: 1402.1906 - val_loss: 167.6807 - val_mse: 167.6807\n",
      "Epoch 84/100\n",
      "434/434 [==============================] - 1s 2ms/step - loss: 1600.6587 - mse: 1600.6587 - val_loss: 259.5191 - val_mse: 259.5191\n",
      "Epoch 85/100\n",
      "434/434 [==============================] - 1s 2ms/step - loss: 1478.4036 - mse: 1478.4036 - val_loss: 179.2370 - val_mse: 179.2370\n",
      "Epoch 86/100\n",
      "434/434 [==============================] - 1s 2ms/step - loss: 1602.9614 - mse: 1602.9613 - val_loss: 251.5562 - val_mse: 251.5562\n",
      "Epoch 87/100\n",
      "434/434 [==============================] - 1s 2ms/step - loss: 1556.2998 - mse: 1556.2998 - val_loss: 197.9821 - val_mse: 197.9821\n",
      "Epoch 88/100\n",
      "434/434 [==============================] - 1s 2ms/step - loss: 1532.1995 - mse: 1532.1995 - val_loss: 172.5960 - val_mse: 172.5960\n",
      "Epoch 89/100\n",
      "434/434 [==============================] - 1s 2ms/step - loss: 1421.5834 - mse: 1421.5834 - val_loss: 176.8376 - val_mse: 176.8376\n",
      "Epoch 90/100\n",
      "434/434 [==============================] - 1s 2ms/step - loss: 1449.9723 - mse: 1449.9723 - val_loss: 135.6426 - val_mse: 135.6426\n",
      "Epoch 91/100\n",
      "434/434 [==============================] - 1s 2ms/step - loss: 1456.7200 - mse: 1456.7200 - val_loss: 162.9518 - val_mse: 162.9518\n",
      "Epoch 92/100\n",
      "434/434 [==============================] - 1s 2ms/step - loss: 1577.6715 - mse: 1577.6715 - val_loss: 143.5973 - val_mse: 143.5973\n",
      "Epoch 93/100\n",
      "434/434 [==============================] - 1s 2ms/step - loss: 1507.4265 - mse: 1507.4266 - val_loss: 113.6350 - val_mse: 113.6350\n",
      "Epoch 94/100\n",
      "434/434 [==============================] - 1s 2ms/step - loss: 1416.1443 - mse: 1416.1443 - val_loss: 147.6887 - val_mse: 147.6887\n",
      "Epoch 95/100\n",
      "434/434 [==============================] - 1s 2ms/step - loss: 1476.8386 - mse: 1476.8386 - val_loss: 155.1465 - val_mse: 155.1465\n",
      "Epoch 96/100\n",
      "434/434 [==============================] - 1s 2ms/step - loss: 1497.6343 - mse: 1497.6343 - val_loss: 165.9829 - val_mse: 165.9829\n",
      "Epoch 97/100\n",
      "434/434 [==============================] - 1s 2ms/step - loss: 1483.8147 - mse: 1483.8147 - val_loss: 116.8774 - val_mse: 116.8774\n",
      "Epoch 98/100\n",
      "434/434 [==============================] - 1s 2ms/step - loss: 1453.3483 - mse: 1453.3483 - val_loss: 120.3428 - val_mse: 120.3428\n",
      "Epoch 99/100\n",
      "434/434 [==============================] - 1s 2ms/step - loss: 1488.1239 - mse: 1488.1239 - val_loss: 115.3447 - val_mse: 115.3447\n",
      "Epoch 100/100\n",
      "434/434 [==============================] - 1s 2ms/step - loss: 1526.0773 - mse: 1526.0773 - val_loss: 116.0655 - val_mse: 116.0655\n"
     ]
    }
   ],
   "source": [
    "#Model Training\n",
    "train_metrics=lstm.fit(X_train, y_train, epochs=100, batch_size=10, verbose=1, shuffle=False,validation_data=(X_test, y_test))"
   ]
  },
  {
   "cell_type": "code",
   "execution_count": 12,
   "id": "c0d02d84",
   "metadata": {
    "execution": {
     "iopub.execute_input": "2023-11-27T11:48:12.929248Z",
     "iopub.status.busy": "2023-11-27T11:48:12.928130Z",
     "iopub.status.idle": "2023-11-27T11:48:12.933004Z",
     "shell.execute_reply": "2023-11-27T11:48:12.932258Z",
     "shell.execute_reply.started": "2023-11-27T11:23:31.211932Z"
    },
    "papermill": {
     "duration": 0.879627,
     "end_time": "2023-11-27T11:48:12.933169",
     "exception": false,
     "start_time": "2023-11-27T11:48:12.053542",
     "status": "completed"
    },
    "tags": []
   },
   "outputs": [
    {
     "data": {
      "text/html": [
       "<div>\n",
       "<style scoped>\n",
       "    .dataframe tbody tr th:only-of-type {\n",
       "        vertical-align: middle;\n",
       "    }\n",
       "\n",
       "    .dataframe tbody tr th {\n",
       "        vertical-align: top;\n",
       "    }\n",
       "\n",
       "    .dataframe thead th {\n",
       "        text-align: right;\n",
       "    }\n",
       "</style>\n",
       "<table border=\"1\" class=\"dataframe\">\n",
       "  <thead>\n",
       "    <tr style=\"text-align: right;\">\n",
       "      <th></th>\n",
       "      <th>loss</th>\n",
       "      <th>mse</th>\n",
       "      <th>val_loss</th>\n",
       "      <th>val_mse</th>\n",
       "    </tr>\n",
       "  </thead>\n",
       "  <tbody>\n",
       "    <tr>\n",
       "      <th>0</th>\n",
       "      <td>179198.734375</td>\n",
       "      <td>179198.734375</td>\n",
       "      <td>234118.671875</td>\n",
       "      <td>234118.671875</td>\n",
       "    </tr>\n",
       "    <tr>\n",
       "      <th>1</th>\n",
       "      <td>167325.031250</td>\n",
       "      <td>167325.031250</td>\n",
       "      <td>207520.734375</td>\n",
       "      <td>207520.734375</td>\n",
       "    </tr>\n",
       "    <tr>\n",
       "      <th>2</th>\n",
       "      <td>143212.093750</td>\n",
       "      <td>143212.093750</td>\n",
       "      <td>168343.703125</td>\n",
       "      <td>168343.703125</td>\n",
       "    </tr>\n",
       "    <tr>\n",
       "      <th>3</th>\n",
       "      <td>113974.640625</td>\n",
       "      <td>113974.640625</td>\n",
       "      <td>127170.117188</td>\n",
       "      <td>127170.117188</td>\n",
       "    </tr>\n",
       "    <tr>\n",
       "      <th>4</th>\n",
       "      <td>85561.726562</td>\n",
       "      <td>85561.726562</td>\n",
       "      <td>89757.640625</td>\n",
       "      <td>89757.640625</td>\n",
       "    </tr>\n",
       "    <tr>\n",
       "      <th>...</th>\n",
       "      <td>...</td>\n",
       "      <td>...</td>\n",
       "      <td>...</td>\n",
       "      <td>...</td>\n",
       "    </tr>\n",
       "    <tr>\n",
       "      <th>95</th>\n",
       "      <td>1497.634277</td>\n",
       "      <td>1497.634277</td>\n",
       "      <td>165.982895</td>\n",
       "      <td>165.982895</td>\n",
       "    </tr>\n",
       "    <tr>\n",
       "      <th>96</th>\n",
       "      <td>1483.814697</td>\n",
       "      <td>1483.814697</td>\n",
       "      <td>116.877396</td>\n",
       "      <td>116.877396</td>\n",
       "    </tr>\n",
       "    <tr>\n",
       "      <th>97</th>\n",
       "      <td>1453.348267</td>\n",
       "      <td>1453.348267</td>\n",
       "      <td>120.342751</td>\n",
       "      <td>120.342751</td>\n",
       "    </tr>\n",
       "    <tr>\n",
       "      <th>98</th>\n",
       "      <td>1488.123901</td>\n",
       "      <td>1488.123901</td>\n",
       "      <td>115.344749</td>\n",
       "      <td>115.344749</td>\n",
       "    </tr>\n",
       "    <tr>\n",
       "      <th>99</th>\n",
       "      <td>1526.077271</td>\n",
       "      <td>1526.077271</td>\n",
       "      <td>116.065491</td>\n",
       "      <td>116.065491</td>\n",
       "    </tr>\n",
       "  </tbody>\n",
       "</table>\n",
       "<p>100 rows × 4 columns</p>\n",
       "</div>"
      ],
      "text/plain": [
       "             loss            mse       val_loss        val_mse\n",
       "0   179198.734375  179198.734375  234118.671875  234118.671875\n",
       "1   167325.031250  167325.031250  207520.734375  207520.734375\n",
       "2   143212.093750  143212.093750  168343.703125  168343.703125\n",
       "3   113974.640625  113974.640625  127170.117188  127170.117188\n",
       "4    85561.726562   85561.726562   89757.640625   89757.640625\n",
       "..            ...            ...            ...            ...\n",
       "95    1497.634277    1497.634277     165.982895     165.982895\n",
       "96    1483.814697    1483.814697     116.877396     116.877396\n",
       "97    1453.348267    1453.348267     120.342751     120.342751\n",
       "98    1488.123901    1488.123901     115.344749     115.344749\n",
       "99    1526.077271    1526.077271     116.065491     116.065491\n",
       "\n",
       "[100 rows x 4 columns]"
      ]
     },
     "execution_count": 12,
     "metadata": {},
     "output_type": "execute_result"
    }
   ],
   "source": [
    "history_df = pd.DataFrame(train_metrics.history)\n",
    "history_df"
   ]
  },
  {
   "cell_type": "markdown",
   "id": "c30cc8b9",
   "metadata": {
    "papermill": {
     "duration": 0.820315,
     "end_time": "2023-11-27T11:48:14.602815",
     "exception": false,
     "start_time": "2023-11-27T11:48:13.782500",
     "status": "completed"
    },
    "tags": []
   },
   "source": [
    "LSTM Prediction\n",
    "**"
   ]
  },
  {
   "cell_type": "code",
   "execution_count": 13,
   "id": "8e1d9815",
   "metadata": {
    "execution": {
     "iopub.execute_input": "2023-11-27T11:48:16.241713Z",
     "iopub.status.busy": "2023-11-27T11:48:16.238577Z",
     "iopub.status.idle": "2023-11-27T11:48:16.589517Z",
     "shell.execute_reply": "2023-11-27T11:48:16.588596Z",
     "shell.execute_reply.started": "2023-11-27T11:24:41.717685Z"
    },
    "papermill": {
     "duration": 1.16886,
     "end_time": "2023-11-27T11:48:16.589704",
     "exception": false,
     "start_time": "2023-11-27T11:48:15.420844",
     "status": "completed"
    },
    "tags": []
   },
   "outputs": [],
   "source": [
    "#LSTM Prediction\n",
    "y_pred= lstm.predict(X_test)"
   ]
  },
  {
   "cell_type": "code",
   "execution_count": 14,
   "id": "7a22eba9",
   "metadata": {
    "execution": {
     "iopub.execute_input": "2023-11-27T11:48:18.263983Z",
     "iopub.status.busy": "2023-11-27T11:48:18.263016Z",
     "iopub.status.idle": "2023-11-27T11:48:18.266594Z",
     "shell.execute_reply": "2023-11-27T11:48:18.267201Z",
     "shell.execute_reply.started": "2023-11-27T11:40:14.676923Z"
    },
    "papermill": {
     "duration": 0.844916,
     "end_time": "2023-11-27T11:48:18.267410",
     "exception": false,
     "start_time": "2023-11-27T11:48:17.422494",
     "status": "completed"
    },
    "tags": []
   },
   "outputs": [
    {
     "name": "stdout",
     "output_type": "stream",
     "text": [
      "Mean Squared Error: 116.0654920628315\n"
     ]
    }
   ],
   "source": [
    "from sklearn.metrics import mean_squared_error\n",
    "mse = mean_squared_error(y_test, y_pred)\n",
    "print(\"Mean Squared Error:\", mse)\n"
   ]
  },
  {
   "cell_type": "markdown",
   "id": "5372a99e",
   "metadata": {
    "papermill": {
     "duration": 0.824303,
     "end_time": "2023-11-27T11:48:19.921942",
     "exception": false,
     "start_time": "2023-11-27T11:48:19.097639",
     "status": "completed"
    },
    "tags": []
   },
   "source": [
    "Comparing Predicted vs True Adjusted Close Value – LSTM"
   ]
  },
  {
   "cell_type": "code",
   "execution_count": 15,
   "id": "92acaf01",
   "metadata": {
    "execution": {
     "iopub.execute_input": "2023-11-27T11:48:21.598623Z",
     "iopub.status.busy": "2023-11-27T11:48:21.586105Z",
     "iopub.status.idle": "2023-11-27T11:48:21.847733Z",
     "shell.execute_reply": "2023-11-27T11:48:21.846920Z",
     "shell.execute_reply.started": "2023-11-27T11:40:15.992602Z"
    },
    "papermill": {
     "duration": 1.116965,
     "end_time": "2023-11-27T11:48:21.847929",
     "exception": false,
     "start_time": "2023-11-27T11:48:20.730964",
     "status": "completed"
    },
    "tags": []
   },
   "outputs": [
    {
     "data": {
      "image/png": "[encoded data removed]",
      "text/plain": [
       "<Figure size 432x288 with 1 Axes>"
      ]
     },
     "metadata": {
      "needs_background": "light"
     },
     "output_type": "display_data"
    }
   ],
   "source": [
    "#Predicted vs True Adj Close Value – LSTM\n",
    "import matplotlib.pyplot as plt\n",
    "plt.plot(y_test, label='True Value')\n",
    "plt.plot(y_pred, label='LSTM Value')\n",
    "plt.title('Prediction by LSTM')\n",
    "plt.xlabel('Time Scale')\n",
    "plt.ylabel('Scaled USD')\n",
    "plt.legend()\n",
    "plt.show()"
   ]
  }
 ],
 "metadata": {
  "kaggle": {
   "accelerator": "none",
   "dataSources": [
    {
     "datasetId": 423609,
     "sourceId": 2179861,
     "sourceType": "datasetVersion"
    }
   ],
   "dockerImageVersionId": 30176,
   "isGpuEnabled": false,
   "isInternetEnabled": true,
   "language": "python",
   "sourceType": "notebook"
  },
  "kernelspec": {
   "display_name": "Python 3",
   "language": "python",
   "name": "python3"
  },
  "language_info": {
   "codemirror_mode": {
    "name": "ipython",
    "version": 3
   },
   "file_extension": ".py",
   "mimetype": "text/x-python",
   "name": "python",
   "nbconvert_exporter": "python",
   "pygments_lexer": "ipython3",
   "version": "3.7.12"
  },
  "papermill": {
   "default_parameters": {},
   "duration": 181.07392,
   "end_time": "2023-11-27T11:48:25.593635",
   "environment_variables": {},
   "exception": null,
   "input_path": "__notebook__.ipynb",
   "output_path": "__notebook__.ipynb",
   "parameters": {},
   "start_time": "2023-11-27T11:45:24.519715",
   "version": "2.3.3"
  }
 },
 "nbformat": 4,
 "nbformat_minor": 5
}
